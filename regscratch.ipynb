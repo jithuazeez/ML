{
  "nbformat": 4,
  "nbformat_minor": 0,
  "metadata": {
    "colab": {
      "name": "regscratch.ipynb",
      "provenance": [],
      "collapsed_sections": []
    },
    "kernelspec": {
      "name": "python3",
      "display_name": "Python 3"
    }
  },
  "cells": [
    {
      "cell_type": "code",
      "metadata": {
        "id": "yhSa5ABMWkhg",
        "colab_type": "code",
        "colab": {}
      },
      "source": [
        "import numpy as np\n"
      ],
      "execution_count": 0,
      "outputs": []
    },
    {
      "cell_type": "code",
      "metadata": {
        "id": "6PBmD-EmjyOq",
        "colab_type": "code",
        "outputId": "82d7cb93-a92b-4884-8847-dda4461c134a",
        "colab": {
          "base_uri": "https://localhost:8080/",
          "height": 34
        }
      },
      "source": [
        "X=np.array([[1],[2],[3],[4]]) ##input array\n",
        "print(X.shape)"
      ],
      "execution_count": 0,
      "outputs": [
        {
          "output_type": "stream",
          "text": [
            "(4, 1)\n"
          ],
          "name": "stdout"
        }
      ]
    },
    {
      "cell_type": "code",
      "metadata": {
        "id": "tI5nrElFj6up",
        "colab_type": "code",
        "colab": {}
      },
      "source": [
        "y=np.array([1,4,9,16])#output array"
      ],
      "execution_count": 0,
      "outputs": []
    },
    {
      "cell_type": "code",
      "metadata": {
        "id": "9caVJ6VTkE5G",
        "colab_type": "code",
        "colab": {}
      },
      "source": [
        "bias=np.ones(len(X)) #bias array\n",
        "  "
      ],
      "execution_count": 0,
      "outputs": []
    },
    {
      "cell_type": "code",
      "metadata": {
        "id": "Q4T0pNtpkRHa",
        "colab_type": "code",
        "colab": {}
      },
      "source": [
        "bias=np.reshape(bias,(4,1)) #reshaping to column vector"
      ],
      "execution_count": 0,
      "outputs": []
    },
    {
      "cell_type": "code",
      "metadata": {
        "id": "Avf72r3ZkR7w",
        "colab_type": "code",
        "colab": {}
      },
      "source": [
        "X=np.append(bias,X,axis=1) #adding bias to input array"
      ],
      "execution_count": 0,
      "outputs": []
    },
    {
      "cell_type": "code",
      "metadata": {
        "id": "-HJVD9DakcAF",
        "colab_type": "code",
        "colab": {
          "base_uri": "https://localhost:8080/",
          "height": 34
        },
        "outputId": "9a435501-8311-4ba2-de50-acf300351f6f"
      },
      "source": [
        "X.shape\n"
      ],
      "execution_count": 100,
      "outputs": [
        {
          "output_type": "execute_result",
          "data": {
            "text/plain": [
              "(4, 2)"
            ]
          },
          "metadata": {
            "tags": []
          },
          "execution_count": 100
        }
      ]
    },
    {
      "cell_type": "code",
      "metadata": {
        "id": "qiEIYH8s2Dx1",
        "colab_type": "code",
        "colab": {}
      },
      "source": [
        "theta=np.zeros((X.shape[1]))#initializing parameters to zero"
      ],
      "execution_count": 0,
      "outputs": []
    },
    {
      "cell_type": "code",
      "metadata": {
        "id": "CDNbLbLv2Rbx",
        "colab_type": "code",
        "colab": {}
      },
      "source": [
        "theta=np.reshape(theta,(2,1)) #reshaping to column vector"
      ],
      "execution_count": 0,
      "outputs": []
    },
    {
      "cell_type": "code",
      "metadata": {
        "id": "iNVhYe-O2WIa",
        "colab_type": "code",
        "colab": {
          "base_uri": "https://localhost:8080/",
          "height": 34
        },
        "outputId": "7fee11bb-77c4-4b6e-f408-2ebdbb874bc2"
      },
      "source": [
        "#calculating the cost function\n",
        "def cost_funct(X,y,theta):\n",
        "  j=np.sum((X.dot(theta)-y)**2)/len(X)\n",
        "  return j\n",
        "print(cost_funct(X,y,theta))"
      ],
      "execution_count": 114,
      "outputs": [
        {
          "output_type": "stream",
          "text": [
            "88.5\n"
          ],
          "name": "stdout"
        }
      ]
    },
    {
      "cell_type": "code",
      "metadata": {
        "id": "6apMf2_E32ax",
        "colab_type": "code",
        "colab": {}
      },
      "source": [
        "alpha=0.01#learning rate\n",
        "#calculating the gradient\n",
        "def grad(X,y,theta,iterations):\n",
        "  cost_hist=np.empty(iterations)\n",
        "  for i in range(iterations):\n",
        "    h=X.dot(theta)\n",
        "    loss=h-y\n",
        "    gradient=X.T.dot(loss)/len(X)\n",
        "    theta=theta-alpha*gradient\n",
        "    cost=cost_funct(X,y,theta)\n",
        "    cost_hist=np.append(cost_hist,cost)\n",
        "  return theta,cost_hist\n",
        "new_theta,finalcost=grad(X,y,theta,1000)"
      ],
      "execution_count": 0,
      "outputs": []
    },
    {
      "cell_type": "code",
      "metadata": {
        "id": "RpUlgT02-gqw",
        "colab_type": "code",
        "colab": {
          "base_uri": "https://localhost:8080/",
          "height": 50
        },
        "outputId": "6bb4dc6d-3285-41d6-fdf0-622c0f66d5ab"
      },
      "source": [
        "print(new_theta)\n",
        "print(finalcost[-1])"
      ],
      "execution_count": 202,
      "outputs": [
        {
          "output_type": "stream",
          "text": [
            "[0.17056043 3.24062606]\n",
            "5.465423732806942\n"
          ],
          "name": "stdout"
        }
      ]
    },
    {
      "cell_type": "code",
      "metadata": {
        "id": "Gb2ZvmRz-hly",
        "colab_type": "code",
        "colab": {}
      },
      "source": [
        "y_pred=X.dot(new_theta) #predicting the output"
      ],
      "execution_count": 0,
      "outputs": []
    },
    {
      "cell_type": "code",
      "metadata": {
        "id": "gYUPxCy9NOw4",
        "colab_type": "code",
        "colab": {
          "base_uri": "https://localhost:8080/",
          "height": 34
        },
        "outputId": "76074ce5-ae86-4457-c828-7b8b9063205e"
      },
      "source": [
        "y_pred"
      ],
      "execution_count": 207,
      "outputs": [
        {
          "output_type": "execute_result",
          "data": {
            "text/plain": [
              "array([ 0.88599736,  5.4293264 ,  9.97265543, 14.51598447])"
            ]
          },
          "metadata": {
            "tags": []
          },
          "execution_count": 207
        }
      ]
    },
    {
      "cell_type": "code",
      "metadata": {
        "id": "w1Z5OXSjNSy7",
        "colab_type": "code",
        "colab": {
          "base_uri": "https://localhost:8080/",
          "height": 67
        },
        "outputId": "a38b9fe0-5db3-48a5-cd39-934de96b6f30"
      },
      "source": [
        "X_new=np.array([[5],[6],[7]])\n",
        "xnb=np.ones(len(X_new))\n",
        "xnb=np.reshape(xnb,X_new.shape)\n",
        "X_new=np.append(xnb,X_new,axis=1)\n",
        "X_new"
      ],
      "execution_count": 208,
      "outputs": [
        {
          "output_type": "execute_result",
          "data": {
            "text/plain": [
              "array([[1., 5.],\n",
              "       [1., 6.],\n",
              "       [1., 7.]])"
            ]
          },
          "metadata": {
            "tags": []
          },
          "execution_count": 208
        }
      ]
    },
    {
      "cell_type": "code",
      "metadata": {
        "id": "Y88kvrvNOGx2",
        "colab_type": "code",
        "colab": {
          "base_uri": "https://localhost:8080/",
          "height": 34
        },
        "outputId": "f6415890-a999-43e4-99ee-d28af0f3e119"
      },
      "source": [
        "y_pred2=X_new.dot(new_theta)\n",
        "y_pred2"
      ],
      "execution_count": 209,
      "outputs": [
        {
          "output_type": "execute_result",
          "data": {
            "text/plain": [
              "array([19.0593135 , 23.60264253, 28.14597157])"
            ]
          },
          "metadata": {
            "tags": []
          },
          "execution_count": 209
        }
      ]
    },
    {
      "cell_type": "markdown",
      "metadata": {
        "id": "FAGgr503RvNW",
        "colab_type": "text"
      },
      "source": [
        "USING SCIKIT-LEARN\n"
      ]
    },
    {
      "cell_type": "code",
      "metadata": {
        "id": "z24rtmy-Olnj",
        "colab_type": "code",
        "colab": {}
      },
      "source": [
        "from sklearn.linear_model import LinearRegression"
      ],
      "execution_count": 0,
      "outputs": []
    },
    {
      "cell_type": "code",
      "metadata": {
        "id": "pZ7MVFSEQGNT",
        "colab_type": "code",
        "colab": {
          "base_uri": "https://localhost:8080/",
          "height": 34
        },
        "outputId": "c3013444-c805-4492-92cc-b75279e2eb49"
      },
      "source": [
        "reg=LinearRegression()\n",
        "\n",
        "reg.fit(X,y)"
      ],
      "execution_count": 181,
      "outputs": [
        {
          "output_type": "execute_result",
          "data": {
            "text/plain": [
              "LinearRegression(copy_X=True, fit_intercept=True, n_jobs=None, normalize=False)"
            ]
          },
          "metadata": {
            "tags": []
          },
          "execution_count": 181
        }
      ]
    },
    {
      "cell_type": "code",
      "metadata": {
        "id": "r5bw3rlkQNo9",
        "colab_type": "code",
        "colab": {}
      },
      "source": [
        "X_new2=np.array([[5],[6],[7]])\n",
        "y_pred=reg.predict(X_new)"
      ],
      "execution_count": 0,
      "outputs": []
    },
    {
      "cell_type": "code",
      "metadata": {
        "id": "1dKp1nuWQa23",
        "colab_type": "code",
        "colab": {
          "base_uri": "https://localhost:8080/",
          "height": 34
        },
        "outputId": "251c7b55-236e-4660-fb9c-cc8543f9ef15"
      },
      "source": [
        "y_pred"
      ],
      "execution_count": 184,
      "outputs": [
        {
          "output_type": "execute_result",
          "data": {
            "text/plain": [
              "array([20., 25., 30.])"
            ]
          },
          "metadata": {
            "tags": []
          },
          "execution_count": 184
        }
      ]
    },
    {
      "cell_type": "code",
      "metadata": {
        "id": "vR8RiZvgQnlb",
        "colab_type": "code",
        "colab": {
          "base_uri": "https://localhost:8080/",
          "height": 34
        },
        "outputId": "23ad5f3d-c741-4185-b745-4c48836e8c78"
      },
      "source": [
        "reg.coef_"
      ],
      "execution_count": 185,
      "outputs": [
        {
          "output_type": "execute_result",
          "data": {
            "text/plain": [
              "array([0., 5.])"
            ]
          },
          "metadata": {
            "tags": []
          },
          "execution_count": 185
        }
      ]
    },
    {
      "cell_type": "code",
      "metadata": {
        "id": "P4nN4AoMRKjX",
        "colab_type": "code",
        "colab": {}
      },
      "source": [
        ""
      ],
      "execution_count": 0,
      "outputs": []
    }
  ]
}