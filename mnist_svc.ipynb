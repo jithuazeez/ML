{
  "nbformat": 4,
  "nbformat_minor": 0,
  "metadata": {
    "colab": {
      "name": "mnist_svc.ipynb",
      "version": "0.3.2",
      "provenance": []
    },
    "kernelspec": {
      "name": "python3",
      "display_name": "Python 3"
    }
  },
  "cells": [
    {
      "cell_type": "code",
      "metadata": {
        "id": "mE4XWY0vkDUJ",
        "colab_type": "code",
        "colab": {}
      },
      "source": [
        "import sklearn\n",
        "from sklearn.datasets import load_digits\n",
        "import numpy as np\n",
        "import pandas as pd\n",
        "from sklearn.model_selection import train_test_split,GridSearchCV"
      ],
      "execution_count": 0,
      "outputs": []
    },
    {
      "cell_type": "code",
      "metadata": {
        "id": "b8iQ7-WjkG2n",
        "colab_type": "code",
        "colab": {}
      },
      "source": [
        "data=load_digits()"
      ],
      "execution_count": 0,
      "outputs": []
    },
    {
      "cell_type": "code",
      "metadata": {
        "id": "ogRdIG4Fkx-_",
        "colab_type": "code",
        "colab": {
          "base_uri": "https://localhost:8080/",
          "height": 790
        },
        "outputId": "4082e203-fc9f-4dbd-b097-ab1e1b1aac86"
      },
      "source": [
        "print(data.DESCR)"
      ],
      "execution_count": 3,
      "outputs": [
        {
          "output_type": "stream",
          "text": [
            ".. _digits_dataset:\n",
            "\n",
            "Optical recognition of handwritten digits dataset\n",
            "--------------------------------------------------\n",
            "\n",
            "**Data Set Characteristics:**\n",
            "\n",
            "    :Number of Instances: 5620\n",
            "    :Number of Attributes: 64\n",
            "    :Attribute Information: 8x8 image of integer pixels in the range 0..16.\n",
            "    :Missing Attribute Values: None\n",
            "    :Creator: E. Alpaydin (alpaydin '@' boun.edu.tr)\n",
            "    :Date: July; 1998\n",
            "\n",
            "This is a copy of the test set of the UCI ML hand-written digits datasets\n",
            "https://archive.ics.uci.edu/ml/datasets/Optical+Recognition+of+Handwritten+Digits\n",
            "\n",
            "The data set contains images of hand-written digits: 10 classes where\n",
            "each class refers to a digit.\n",
            "\n",
            "Preprocessing programs made available by NIST were used to extract\n",
            "normalized bitmaps of handwritten digits from a preprinted form. From a\n",
            "total of 43 people, 30 contributed to the training set and different 13\n",
            "to the test set. 32x32 bitmaps are divided into nonoverlapping blocks of\n",
            "4x4 and the number of on pixels are counted in each block. This generates\n",
            "an input matrix of 8x8 where each element is an integer in the range\n",
            "0..16. This reduces dimensionality and gives invariance to small\n",
            "distortions.\n",
            "\n",
            "For info on NIST preprocessing routines, see M. D. Garris, J. L. Blue, G.\n",
            "T. Candela, D. L. Dimmick, J. Geist, P. J. Grother, S. A. Janet, and C.\n",
            "L. Wilson, NIST Form-Based Handprint Recognition System, NISTIR 5469,\n",
            "1994.\n",
            "\n",
            ".. topic:: References\n",
            "\n",
            "  - C. Kaynak (1995) Methods of Combining Multiple Classifiers and Their\n",
            "    Applications to Handwritten Digit Recognition, MSc Thesis, Institute of\n",
            "    Graduate Studies in Science and Engineering, Bogazici University.\n",
            "  - E. Alpaydin, C. Kaynak (1998) Cascading Classifiers, Kybernetika.\n",
            "  - Ken Tang and Ponnuthurai N. Suganthan and Xi Yao and A. Kai Qin.\n",
            "    Linear dimensionalityreduction using relevance weighted LDA. School of\n",
            "    Electrical and Electronic Engineering Nanyang Technological University.\n",
            "    2005.\n",
            "  - Claudio Gentile. A New Approximate Maximal Margin Classification\n",
            "    Algorithm. NIPS. 2000.\n"
          ],
          "name": "stdout"
        }
      ]
    },
    {
      "cell_type": "code",
      "metadata": {
        "id": "ABOcAk5GkzNO",
        "colab_type": "code",
        "colab": {
          "base_uri": "https://localhost:8080/",
          "height": 34
        },
        "outputId": "c4133d68-9bb5-4bf6-e9b1-9c9f8277d80d"
      },
      "source": [
        "print(data.keys())"
      ],
      "execution_count": 4,
      "outputs": [
        {
          "output_type": "stream",
          "text": [
            "dict_keys(['data', 'target', 'target_names', 'images', 'DESCR'])\n"
          ],
          "name": "stdout"
        }
      ]
    },
    {
      "cell_type": "code",
      "metadata": {
        "id": "XgjUaDPHlhVM",
        "colab_type": "code",
        "colab": {}
      },
      "source": [
        "df=pd.DataFrame(data.data)"
      ],
      "execution_count": 0,
      "outputs": []
    },
    {
      "cell_type": "code",
      "metadata": {
        "id": "Z_KUXBIol30D",
        "colab_type": "code",
        "colab": {
          "base_uri": "https://localhost:8080/",
          "height": 34
        },
        "outputId": "bffac0dd-e3a9-402b-8ab6-1ac57cd3ae0f"
      },
      "source": [
        "print(data.target_names)"
      ],
      "execution_count": 6,
      "outputs": [
        {
          "output_type": "stream",
          "text": [
            "[0 1 2 3 4 5 6 7 8 9]\n"
          ],
          "name": "stdout"
        }
      ]
    },
    {
      "cell_type": "code",
      "metadata": {
        "id": "-groAUD9l_ZF",
        "colab_type": "code",
        "colab": {}
      },
      "source": [
        "df['number']=data.target"
      ],
      "execution_count": 0,
      "outputs": []
    },
    {
      "cell_type": "code",
      "metadata": {
        "id": "3PioWQGNmB2u",
        "colab_type": "code",
        "colab": {
          "base_uri": "https://localhost:8080/",
          "height": 215
        },
        "outputId": "76b26543-a923-4422-bafa-d2f42c3945cb"
      },
      "source": [
        "df.head()"
      ],
      "execution_count": 8,
      "outputs": [
        {
          "output_type": "execute_result",
          "data": {
            "text/html": [
              "<div>\n",
              "<style scoped>\n",
              "    .dataframe tbody tr th:only-of-type {\n",
              "        vertical-align: middle;\n",
              "    }\n",
              "\n",
              "    .dataframe tbody tr th {\n",
              "        vertical-align: top;\n",
              "    }\n",
              "\n",
              "    .dataframe thead th {\n",
              "        text-align: right;\n",
              "    }\n",
              "</style>\n",
              "<table border=\"1\" class=\"dataframe\">\n",
              "  <thead>\n",
              "    <tr style=\"text-align: right;\">\n",
              "      <th></th>\n",
              "      <th>0</th>\n",
              "      <th>1</th>\n",
              "      <th>2</th>\n",
              "      <th>3</th>\n",
              "      <th>4</th>\n",
              "      <th>5</th>\n",
              "      <th>6</th>\n",
              "      <th>7</th>\n",
              "      <th>8</th>\n",
              "      <th>9</th>\n",
              "      <th>10</th>\n",
              "      <th>11</th>\n",
              "      <th>12</th>\n",
              "      <th>13</th>\n",
              "      <th>14</th>\n",
              "      <th>15</th>\n",
              "      <th>16</th>\n",
              "      <th>17</th>\n",
              "      <th>18</th>\n",
              "      <th>19</th>\n",
              "      <th>20</th>\n",
              "      <th>21</th>\n",
              "      <th>22</th>\n",
              "      <th>23</th>\n",
              "      <th>24</th>\n",
              "      <th>25</th>\n",
              "      <th>26</th>\n",
              "      <th>27</th>\n",
              "      <th>28</th>\n",
              "      <th>29</th>\n",
              "      <th>30</th>\n",
              "      <th>31</th>\n",
              "      <th>32</th>\n",
              "      <th>33</th>\n",
              "      <th>34</th>\n",
              "      <th>35</th>\n",
              "      <th>36</th>\n",
              "      <th>37</th>\n",
              "      <th>38</th>\n",
              "      <th>39</th>\n",
              "      <th>40</th>\n",
              "      <th>41</th>\n",
              "      <th>42</th>\n",
              "      <th>43</th>\n",
              "      <th>44</th>\n",
              "      <th>45</th>\n",
              "      <th>46</th>\n",
              "      <th>47</th>\n",
              "      <th>48</th>\n",
              "      <th>49</th>\n",
              "      <th>50</th>\n",
              "      <th>51</th>\n",
              "      <th>52</th>\n",
              "      <th>53</th>\n",
              "      <th>54</th>\n",
              "      <th>55</th>\n",
              "      <th>56</th>\n",
              "      <th>57</th>\n",
              "      <th>58</th>\n",
              "      <th>59</th>\n",
              "      <th>60</th>\n",
              "      <th>61</th>\n",
              "      <th>62</th>\n",
              "      <th>63</th>\n",
              "      <th>number</th>\n",
              "    </tr>\n",
              "  </thead>\n",
              "  <tbody>\n",
              "    <tr>\n",
              "      <th>0</th>\n",
              "      <td>0.0</td>\n",
              "      <td>0.0</td>\n",
              "      <td>5.0</td>\n",
              "      <td>13.0</td>\n",
              "      <td>9.0</td>\n",
              "      <td>1.0</td>\n",
              "      <td>0.0</td>\n",
              "      <td>0.0</td>\n",
              "      <td>0.0</td>\n",
              "      <td>0.0</td>\n",
              "      <td>13.0</td>\n",
              "      <td>15.0</td>\n",
              "      <td>10.0</td>\n",
              "      <td>15.0</td>\n",
              "      <td>5.0</td>\n",
              "      <td>0.0</td>\n",
              "      <td>0.0</td>\n",
              "      <td>3.0</td>\n",
              "      <td>15.0</td>\n",
              "      <td>2.0</td>\n",
              "      <td>0.0</td>\n",
              "      <td>11.0</td>\n",
              "      <td>8.0</td>\n",
              "      <td>0.0</td>\n",
              "      <td>0.0</td>\n",
              "      <td>4.0</td>\n",
              "      <td>12.0</td>\n",
              "      <td>0.0</td>\n",
              "      <td>0.0</td>\n",
              "      <td>8.0</td>\n",
              "      <td>8.0</td>\n",
              "      <td>0.0</td>\n",
              "      <td>0.0</td>\n",
              "      <td>5.0</td>\n",
              "      <td>8.0</td>\n",
              "      <td>0.0</td>\n",
              "      <td>0.0</td>\n",
              "      <td>9.0</td>\n",
              "      <td>8.0</td>\n",
              "      <td>0.0</td>\n",
              "      <td>0.0</td>\n",
              "      <td>4.0</td>\n",
              "      <td>11.0</td>\n",
              "      <td>0.0</td>\n",
              "      <td>1.0</td>\n",
              "      <td>12.0</td>\n",
              "      <td>7.0</td>\n",
              "      <td>0.0</td>\n",
              "      <td>0.0</td>\n",
              "      <td>2.0</td>\n",
              "      <td>14.0</td>\n",
              "      <td>5.0</td>\n",
              "      <td>10.0</td>\n",
              "      <td>12.0</td>\n",
              "      <td>0.0</td>\n",
              "      <td>0.0</td>\n",
              "      <td>0.0</td>\n",
              "      <td>0.0</td>\n",
              "      <td>6.0</td>\n",
              "      <td>13.0</td>\n",
              "      <td>10.0</td>\n",
              "      <td>0.0</td>\n",
              "      <td>0.0</td>\n",
              "      <td>0.0</td>\n",
              "      <td>0</td>\n",
              "    </tr>\n",
              "    <tr>\n",
              "      <th>1</th>\n",
              "      <td>0.0</td>\n",
              "      <td>0.0</td>\n",
              "      <td>0.0</td>\n",
              "      <td>12.0</td>\n",
              "      <td>13.0</td>\n",
              "      <td>5.0</td>\n",
              "      <td>0.0</td>\n",
              "      <td>0.0</td>\n",
              "      <td>0.0</td>\n",
              "      <td>0.0</td>\n",
              "      <td>0.0</td>\n",
              "      <td>11.0</td>\n",
              "      <td>16.0</td>\n",
              "      <td>9.0</td>\n",
              "      <td>0.0</td>\n",
              "      <td>0.0</td>\n",
              "      <td>0.0</td>\n",
              "      <td>0.0</td>\n",
              "      <td>3.0</td>\n",
              "      <td>15.0</td>\n",
              "      <td>16.0</td>\n",
              "      <td>6.0</td>\n",
              "      <td>0.0</td>\n",
              "      <td>0.0</td>\n",
              "      <td>0.0</td>\n",
              "      <td>7.0</td>\n",
              "      <td>15.0</td>\n",
              "      <td>16.0</td>\n",
              "      <td>16.0</td>\n",
              "      <td>2.0</td>\n",
              "      <td>0.0</td>\n",
              "      <td>0.0</td>\n",
              "      <td>0.0</td>\n",
              "      <td>0.0</td>\n",
              "      <td>1.0</td>\n",
              "      <td>16.0</td>\n",
              "      <td>16.0</td>\n",
              "      <td>3.0</td>\n",
              "      <td>0.0</td>\n",
              "      <td>0.0</td>\n",
              "      <td>0.0</td>\n",
              "      <td>0.0</td>\n",
              "      <td>1.0</td>\n",
              "      <td>16.0</td>\n",
              "      <td>16.0</td>\n",
              "      <td>6.0</td>\n",
              "      <td>0.0</td>\n",
              "      <td>0.0</td>\n",
              "      <td>0.0</td>\n",
              "      <td>0.0</td>\n",
              "      <td>1.0</td>\n",
              "      <td>16.0</td>\n",
              "      <td>16.0</td>\n",
              "      <td>6.0</td>\n",
              "      <td>0.0</td>\n",
              "      <td>0.0</td>\n",
              "      <td>0.0</td>\n",
              "      <td>0.0</td>\n",
              "      <td>0.0</td>\n",
              "      <td>11.0</td>\n",
              "      <td>16.0</td>\n",
              "      <td>10.0</td>\n",
              "      <td>0.0</td>\n",
              "      <td>0.0</td>\n",
              "      <td>1</td>\n",
              "    </tr>\n",
              "    <tr>\n",
              "      <th>2</th>\n",
              "      <td>0.0</td>\n",
              "      <td>0.0</td>\n",
              "      <td>0.0</td>\n",
              "      <td>4.0</td>\n",
              "      <td>15.0</td>\n",
              "      <td>12.0</td>\n",
              "      <td>0.0</td>\n",
              "      <td>0.0</td>\n",
              "      <td>0.0</td>\n",
              "      <td>0.0</td>\n",
              "      <td>3.0</td>\n",
              "      <td>16.0</td>\n",
              "      <td>15.0</td>\n",
              "      <td>14.0</td>\n",
              "      <td>0.0</td>\n",
              "      <td>0.0</td>\n",
              "      <td>0.0</td>\n",
              "      <td>0.0</td>\n",
              "      <td>8.0</td>\n",
              "      <td>13.0</td>\n",
              "      <td>8.0</td>\n",
              "      <td>16.0</td>\n",
              "      <td>0.0</td>\n",
              "      <td>0.0</td>\n",
              "      <td>0.0</td>\n",
              "      <td>0.0</td>\n",
              "      <td>1.0</td>\n",
              "      <td>6.0</td>\n",
              "      <td>15.0</td>\n",
              "      <td>11.0</td>\n",
              "      <td>0.0</td>\n",
              "      <td>0.0</td>\n",
              "      <td>0.0</td>\n",
              "      <td>1.0</td>\n",
              "      <td>8.0</td>\n",
              "      <td>13.0</td>\n",
              "      <td>15.0</td>\n",
              "      <td>1.0</td>\n",
              "      <td>0.0</td>\n",
              "      <td>0.0</td>\n",
              "      <td>0.0</td>\n",
              "      <td>9.0</td>\n",
              "      <td>16.0</td>\n",
              "      <td>16.0</td>\n",
              "      <td>5.0</td>\n",
              "      <td>0.0</td>\n",
              "      <td>0.0</td>\n",
              "      <td>0.0</td>\n",
              "      <td>0.0</td>\n",
              "      <td>3.0</td>\n",
              "      <td>13.0</td>\n",
              "      <td>16.0</td>\n",
              "      <td>16.0</td>\n",
              "      <td>11.0</td>\n",
              "      <td>5.0</td>\n",
              "      <td>0.0</td>\n",
              "      <td>0.0</td>\n",
              "      <td>0.0</td>\n",
              "      <td>0.0</td>\n",
              "      <td>3.0</td>\n",
              "      <td>11.0</td>\n",
              "      <td>16.0</td>\n",
              "      <td>9.0</td>\n",
              "      <td>0.0</td>\n",
              "      <td>2</td>\n",
              "    </tr>\n",
              "    <tr>\n",
              "      <th>3</th>\n",
              "      <td>0.0</td>\n",
              "      <td>0.0</td>\n",
              "      <td>7.0</td>\n",
              "      <td>15.0</td>\n",
              "      <td>13.0</td>\n",
              "      <td>1.0</td>\n",
              "      <td>0.0</td>\n",
              "      <td>0.0</td>\n",
              "      <td>0.0</td>\n",
              "      <td>8.0</td>\n",
              "      <td>13.0</td>\n",
              "      <td>6.0</td>\n",
              "      <td>15.0</td>\n",
              "      <td>4.0</td>\n",
              "      <td>0.0</td>\n",
              "      <td>0.0</td>\n",
              "      <td>0.0</td>\n",
              "      <td>2.0</td>\n",
              "      <td>1.0</td>\n",
              "      <td>13.0</td>\n",
              "      <td>13.0</td>\n",
              "      <td>0.0</td>\n",
              "      <td>0.0</td>\n",
              "      <td>0.0</td>\n",
              "      <td>0.0</td>\n",
              "      <td>0.0</td>\n",
              "      <td>2.0</td>\n",
              "      <td>15.0</td>\n",
              "      <td>11.0</td>\n",
              "      <td>1.0</td>\n",
              "      <td>0.0</td>\n",
              "      <td>0.0</td>\n",
              "      <td>0.0</td>\n",
              "      <td>0.0</td>\n",
              "      <td>0.0</td>\n",
              "      <td>1.0</td>\n",
              "      <td>12.0</td>\n",
              "      <td>12.0</td>\n",
              "      <td>1.0</td>\n",
              "      <td>0.0</td>\n",
              "      <td>0.0</td>\n",
              "      <td>0.0</td>\n",
              "      <td>0.0</td>\n",
              "      <td>0.0</td>\n",
              "      <td>1.0</td>\n",
              "      <td>10.0</td>\n",
              "      <td>8.0</td>\n",
              "      <td>0.0</td>\n",
              "      <td>0.0</td>\n",
              "      <td>0.0</td>\n",
              "      <td>8.0</td>\n",
              "      <td>4.0</td>\n",
              "      <td>5.0</td>\n",
              "      <td>14.0</td>\n",
              "      <td>9.0</td>\n",
              "      <td>0.0</td>\n",
              "      <td>0.0</td>\n",
              "      <td>0.0</td>\n",
              "      <td>7.0</td>\n",
              "      <td>13.0</td>\n",
              "      <td>13.0</td>\n",
              "      <td>9.0</td>\n",
              "      <td>0.0</td>\n",
              "      <td>0.0</td>\n",
              "      <td>3</td>\n",
              "    </tr>\n",
              "    <tr>\n",
              "      <th>4</th>\n",
              "      <td>0.0</td>\n",
              "      <td>0.0</td>\n",
              "      <td>0.0</td>\n",
              "      <td>1.0</td>\n",
              "      <td>11.0</td>\n",
              "      <td>0.0</td>\n",
              "      <td>0.0</td>\n",
              "      <td>0.0</td>\n",
              "      <td>0.0</td>\n",
              "      <td>0.0</td>\n",
              "      <td>0.0</td>\n",
              "      <td>7.0</td>\n",
              "      <td>8.0</td>\n",
              "      <td>0.0</td>\n",
              "      <td>0.0</td>\n",
              "      <td>0.0</td>\n",
              "      <td>0.0</td>\n",
              "      <td>0.0</td>\n",
              "      <td>1.0</td>\n",
              "      <td>13.0</td>\n",
              "      <td>6.0</td>\n",
              "      <td>2.0</td>\n",
              "      <td>2.0</td>\n",
              "      <td>0.0</td>\n",
              "      <td>0.0</td>\n",
              "      <td>0.0</td>\n",
              "      <td>7.0</td>\n",
              "      <td>15.0</td>\n",
              "      <td>0.0</td>\n",
              "      <td>9.0</td>\n",
              "      <td>8.0</td>\n",
              "      <td>0.0</td>\n",
              "      <td>0.0</td>\n",
              "      <td>5.0</td>\n",
              "      <td>16.0</td>\n",
              "      <td>10.0</td>\n",
              "      <td>0.0</td>\n",
              "      <td>16.0</td>\n",
              "      <td>6.0</td>\n",
              "      <td>0.0</td>\n",
              "      <td>0.0</td>\n",
              "      <td>4.0</td>\n",
              "      <td>15.0</td>\n",
              "      <td>16.0</td>\n",
              "      <td>13.0</td>\n",
              "      <td>16.0</td>\n",
              "      <td>1.0</td>\n",
              "      <td>0.0</td>\n",
              "      <td>0.0</td>\n",
              "      <td>0.0</td>\n",
              "      <td>0.0</td>\n",
              "      <td>3.0</td>\n",
              "      <td>15.0</td>\n",
              "      <td>10.0</td>\n",
              "      <td>0.0</td>\n",
              "      <td>0.0</td>\n",
              "      <td>0.0</td>\n",
              "      <td>0.0</td>\n",
              "      <td>0.0</td>\n",
              "      <td>2.0</td>\n",
              "      <td>16.0</td>\n",
              "      <td>4.0</td>\n",
              "      <td>0.0</td>\n",
              "      <td>0.0</td>\n",
              "      <td>4</td>\n",
              "    </tr>\n",
              "  </tbody>\n",
              "</table>\n",
              "</div>"
            ],
            "text/plain": [
              "     0    1    2     3     4     5  ...    59    60    61   62   63  number\n",
              "0  0.0  0.0  5.0  13.0   9.0   1.0  ...  13.0  10.0   0.0  0.0  0.0       0\n",
              "1  0.0  0.0  0.0  12.0  13.0   5.0  ...  11.0  16.0  10.0  0.0  0.0       1\n",
              "2  0.0  0.0  0.0   4.0  15.0  12.0  ...   3.0  11.0  16.0  9.0  0.0       2\n",
              "3  0.0  0.0  7.0  15.0  13.0   1.0  ...  13.0  13.0   9.0  0.0  0.0       3\n",
              "4  0.0  0.0  0.0   1.0  11.0   0.0  ...   2.0  16.0   4.0  0.0  0.0       4\n",
              "\n",
              "[5 rows x 65 columns]"
            ]
          },
          "metadata": {
            "tags": []
          },
          "execution_count": 8
        }
      ]
    },
    {
      "cell_type": "code",
      "metadata": {
        "id": "KnaC1zYkmxLm",
        "colab_type": "code",
        "colab": {
          "base_uri": "https://localhost:8080/",
          "height": 34
        },
        "outputId": "6bde2ff6-4a1f-4c0c-8a4b-34d866e02a87"
      },
      "source": [
        "df.shape"
      ],
      "execution_count": 9,
      "outputs": [
        {
          "output_type": "execute_result",
          "data": {
            "text/plain": [
              "(1797, 65)"
            ]
          },
          "metadata": {
            "tags": []
          },
          "execution_count": 9
        }
      ]
    },
    {
      "cell_type": "code",
      "metadata": {
        "id": "Ebo1Bs-2nlDo",
        "colab_type": "code",
        "colab": {}
      },
      "source": [
        "X=df.drop('number',axis=1)\n",
        "y=df['number']"
      ],
      "execution_count": 0,
      "outputs": []
    },
    {
      "cell_type": "code",
      "metadata": {
        "id": "k2SuA_tMrUFN",
        "colab_type": "code",
        "colab": {
          "base_uri": "https://localhost:8080/",
          "height": 34
        },
        "outputId": "befdb11d-cb58-46a2-9124-697a5713ff7f"
      },
      "source": [
        "y.shape"
      ],
      "execution_count": 11,
      "outputs": [
        {
          "output_type": "execute_result",
          "data": {
            "text/plain": [
              "(1797,)"
            ]
          },
          "metadata": {
            "tags": []
          },
          "execution_count": 11
        }
      ]
    },
    {
      "cell_type": "code",
      "metadata": {
        "id": "j-91DIdArYQ8",
        "colab_type": "code",
        "colab": {
          "base_uri": "https://localhost:8080/",
          "height": 34
        },
        "outputId": "f9378427-1780-4388-b160-c2e3df0e4fce"
      },
      "source": [
        "X.shape"
      ],
      "execution_count": 12,
      "outputs": [
        {
          "output_type": "execute_result",
          "data": {
            "text/plain": [
              "(1797, 64)"
            ]
          },
          "metadata": {
            "tags": []
          },
          "execution_count": 12
        }
      ]
    },
    {
      "cell_type": "code",
      "metadata": {
        "id": "2OQaEHpyrkhn",
        "colab_type": "code",
        "colab": {
          "base_uri": "https://localhost:8080/",
          "height": 202
        },
        "outputId": "20436368-c967-487e-86db-9294af758622"
      },
      "source": [
        "y.value_counts()"
      ],
      "execution_count": 13,
      "outputs": [
        {
          "output_type": "execute_result",
          "data": {
            "text/plain": [
              "3    183\n",
              "5    182\n",
              "1    182\n",
              "6    181\n",
              "4    181\n",
              "9    180\n",
              "7    179\n",
              "0    178\n",
              "2    177\n",
              "8    174\n",
              "Name: number, dtype: int64"
            ]
          },
          "metadata": {
            "tags": []
          },
          "execution_count": 13
        }
      ]
    },
    {
      "cell_type": "code",
      "metadata": {
        "id": "89mxn4uKr-Xu",
        "colab_type": "code",
        "colab": {}
      },
      "source": [
        "from sklearn.preprocessing import StandardScaler\n",
        "from sklearn.svm import SVC"
      ],
      "execution_count": 0,
      "outputs": []
    },
    {
      "cell_type": "code",
      "metadata": {
        "id": "gD1YYACbtPA0",
        "colab_type": "code",
        "colab": {}
      },
      "source": [
        "scaler=StandardScaler()"
      ],
      "execution_count": 0,
      "outputs": []
    },
    {
      "cell_type": "code",
      "metadata": {
        "id": "ROAfCX87u9n_",
        "colab_type": "code",
        "colab": {
          "base_uri": "https://localhost:8080/",
          "height": 34
        },
        "outputId": "bae9df50-c0db-44ab-bf83-fd2b9aa89a7f"
      },
      "source": [
        "scaler.fit(X)"
      ],
      "execution_count": 18,
      "outputs": [
        {
          "output_type": "execute_result",
          "data": {
            "text/plain": [
              "StandardScaler(copy=True, with_mean=True, with_std=True)"
            ]
          },
          "metadata": {
            "tags": []
          },
          "execution_count": 18
        }
      ]
    },
    {
      "cell_type": "code",
      "metadata": {
        "id": "Pv40L-cbvFZ1",
        "colab_type": "code",
        "colab": {}
      },
      "source": [
        "X=scaler.transform(X)"
      ],
      "execution_count": 0,
      "outputs": []
    },
    {
      "cell_type": "code",
      "metadata": {
        "id": "bznxBvp3vMfM",
        "colab_type": "code",
        "colab": {}
      },
      "source": [
        "X=pd.DataFrame(X)"
      ],
      "execution_count": 0,
      "outputs": []
    },
    {
      "cell_type": "code",
      "metadata": {
        "id": "8LGxun-mvO7k",
        "colab_type": "code",
        "colab": {
          "base_uri": "https://localhost:8080/",
          "height": 215
        },
        "outputId": "0dd34ee8-a176-43ea-e21c-6596503d4cf2"
      },
      "source": [
        "X.head()"
      ],
      "execution_count": 22,
      "outputs": [
        {
          "output_type": "execute_result",
          "data": {
            "text/html": [
              "<div>\n",
              "<style scoped>\n",
              "    .dataframe tbody tr th:only-of-type {\n",
              "        vertical-align: middle;\n",
              "    }\n",
              "\n",
              "    .dataframe tbody tr th {\n",
              "        vertical-align: top;\n",
              "    }\n",
              "\n",
              "    .dataframe thead th {\n",
              "        text-align: right;\n",
              "    }\n",
              "</style>\n",
              "<table border=\"1\" class=\"dataframe\">\n",
              "  <thead>\n",
              "    <tr style=\"text-align: right;\">\n",
              "      <th></th>\n",
              "      <th>0</th>\n",
              "      <th>1</th>\n",
              "      <th>2</th>\n",
              "      <th>3</th>\n",
              "      <th>4</th>\n",
              "      <th>5</th>\n",
              "      <th>6</th>\n",
              "      <th>7</th>\n",
              "      <th>8</th>\n",
              "      <th>9</th>\n",
              "      <th>10</th>\n",
              "      <th>11</th>\n",
              "      <th>12</th>\n",
              "      <th>13</th>\n",
              "      <th>14</th>\n",
              "      <th>15</th>\n",
              "      <th>16</th>\n",
              "      <th>17</th>\n",
              "      <th>18</th>\n",
              "      <th>19</th>\n",
              "      <th>20</th>\n",
              "      <th>21</th>\n",
              "      <th>22</th>\n",
              "      <th>23</th>\n",
              "      <th>24</th>\n",
              "      <th>25</th>\n",
              "      <th>26</th>\n",
              "      <th>27</th>\n",
              "      <th>28</th>\n",
              "      <th>29</th>\n",
              "      <th>30</th>\n",
              "      <th>31</th>\n",
              "      <th>32</th>\n",
              "      <th>33</th>\n",
              "      <th>34</th>\n",
              "      <th>35</th>\n",
              "      <th>36</th>\n",
              "      <th>37</th>\n",
              "      <th>38</th>\n",
              "      <th>39</th>\n",
              "      <th>40</th>\n",
              "      <th>41</th>\n",
              "      <th>42</th>\n",
              "      <th>43</th>\n",
              "      <th>44</th>\n",
              "      <th>45</th>\n",
              "      <th>46</th>\n",
              "      <th>47</th>\n",
              "      <th>48</th>\n",
              "      <th>49</th>\n",
              "      <th>50</th>\n",
              "      <th>51</th>\n",
              "      <th>52</th>\n",
              "      <th>53</th>\n",
              "      <th>54</th>\n",
              "      <th>55</th>\n",
              "      <th>56</th>\n",
              "      <th>57</th>\n",
              "      <th>58</th>\n",
              "      <th>59</th>\n",
              "      <th>60</th>\n",
              "      <th>61</th>\n",
              "      <th>62</th>\n",
              "      <th>63</th>\n",
              "    </tr>\n",
              "  </thead>\n",
              "  <tbody>\n",
              "    <tr>\n",
              "      <th>0</th>\n",
              "      <td>0.0</td>\n",
              "      <td>-0.335016</td>\n",
              "      <td>-0.043081</td>\n",
              "      <td>0.274072</td>\n",
              "      <td>-0.664478</td>\n",
              "      <td>-0.844129</td>\n",
              "      <td>-0.409724</td>\n",
              "      <td>-0.125023</td>\n",
              "      <td>-0.059078</td>\n",
              "      <td>-0.624009</td>\n",
              "      <td>0.482974</td>\n",
              "      <td>0.759622</td>\n",
              "      <td>-0.058426</td>\n",
              "      <td>1.127721</td>\n",
              "      <td>0.879583</td>\n",
              "      <td>-0.130433</td>\n",
              "      <td>-0.044625</td>\n",
              "      <td>0.111443</td>\n",
              "      <td>0.895880</td>\n",
              "      <td>-0.860666</td>\n",
              "      <td>-1.149648</td>\n",
              "      <td>0.515472</td>\n",
              "      <td>1.905963</td>\n",
              "      <td>-0.114222</td>\n",
              "      <td>-0.03338</td>\n",
              "      <td>0.486489</td>\n",
              "      <td>0.469885</td>\n",
              "      <td>-1.499901</td>\n",
              "      <td>-1.614063</td>\n",
              "      <td>0.076398</td>\n",
              "      <td>1.541814</td>\n",
              "      <td>-0.047232</td>\n",
              "      <td>0.0</td>\n",
              "      <td>0.764656</td>\n",
              "      <td>0.052630</td>\n",
              "      <td>-1.447630</td>\n",
              "      <td>-1.736664</td>\n",
              "      <td>0.043616</td>\n",
              "      <td>1.439558</td>\n",
              "      <td>0.0</td>\n",
              "      <td>-0.061344</td>\n",
              "      <td>0.810554</td>\n",
              "      <td>0.630117</td>\n",
              "      <td>-1.122457</td>\n",
              "      <td>-1.066232</td>\n",
              "      <td>0.660965</td>\n",
              "      <td>0.818451</td>\n",
              "      <td>-0.088742</td>\n",
              "      <td>-0.035433</td>\n",
              "      <td>0.742119</td>\n",
              "      <td>1.150652</td>\n",
              "      <td>-0.868671</td>\n",
              "      <td>0.110130</td>\n",
              "      <td>0.537611</td>\n",
              "      <td>-0.757436</td>\n",
              "      <td>-0.209785</td>\n",
              "      <td>-0.023596</td>\n",
              "      <td>-0.299081</td>\n",
              "      <td>0.086719</td>\n",
              "      <td>0.208293</td>\n",
              "      <td>-0.366771</td>\n",
              "      <td>-1.146647</td>\n",
              "      <td>-0.505670</td>\n",
              "      <td>-0.196008</td>\n",
              "    </tr>\n",
              "    <tr>\n",
              "      <th>1</th>\n",
              "      <td>0.0</td>\n",
              "      <td>-0.335016</td>\n",
              "      <td>-1.094937</td>\n",
              "      <td>0.038648</td>\n",
              "      <td>0.268751</td>\n",
              "      <td>-0.138020</td>\n",
              "      <td>-0.409724</td>\n",
              "      <td>-0.125023</td>\n",
              "      <td>-0.059078</td>\n",
              "      <td>-0.624009</td>\n",
              "      <td>-1.915573</td>\n",
              "      <td>-0.246304</td>\n",
              "      <td>1.196450</td>\n",
              "      <td>0.136195</td>\n",
              "      <td>-0.514991</td>\n",
              "      <td>-0.130433</td>\n",
              "      <td>-0.044625</td>\n",
              "      <td>-0.727646</td>\n",
              "      <td>-1.213385</td>\n",
              "      <td>1.380308</td>\n",
              "      <td>1.441860</td>\n",
              "      <td>-0.291553</td>\n",
              "      <td>-0.548805</td>\n",
              "      <td>-0.114222</td>\n",
              "      <td>-0.03338</td>\n",
              "      <td>1.440185</td>\n",
              "      <td>0.954513</td>\n",
              "      <td>1.220586</td>\n",
              "      <td>0.987402</td>\n",
              "      <td>-0.945588</td>\n",
              "      <td>-0.628896</td>\n",
              "      <td>-0.047232</td>\n",
              "      <td>0.0</td>\n",
              "      <td>-0.672372</td>\n",
              "      <td>-1.054452</td>\n",
              "      <td>1.105570</td>\n",
              "      <td>0.960644</td>\n",
              "      <td>-0.978702</td>\n",
              "      <td>-0.822695</td>\n",
              "      <td>0.0</td>\n",
              "      <td>-0.061344</td>\n",
              "      <td>-0.531284</td>\n",
              "      <td>-0.899839</td>\n",
              "      <td>1.362175</td>\n",
              "      <td>1.330789</td>\n",
              "      <td>-0.392787</td>\n",
              "      <td>-0.798272</td>\n",
              "      <td>-0.088742</td>\n",
              "      <td>-0.035433</td>\n",
              "      <td>-0.403575</td>\n",
              "      <td>-1.153118</td>\n",
              "      <td>1.236394</td>\n",
              "      <td>1.242083</td>\n",
              "      <td>-0.457500</td>\n",
              "      <td>-0.757436</td>\n",
              "      <td>-0.209785</td>\n",
              "      <td>-0.023596</td>\n",
              "      <td>-0.299081</td>\n",
              "      <td>-1.089383</td>\n",
              "      <td>-0.249010</td>\n",
              "      <td>0.849632</td>\n",
              "      <td>0.548561</td>\n",
              "      <td>-0.505670</td>\n",
              "      <td>-0.196008</td>\n",
              "    </tr>\n",
              "    <tr>\n",
              "      <th>2</th>\n",
              "      <td>0.0</td>\n",
              "      <td>-0.335016</td>\n",
              "      <td>-1.094937</td>\n",
              "      <td>-1.844742</td>\n",
              "      <td>0.735366</td>\n",
              "      <td>1.097673</td>\n",
              "      <td>-0.409724</td>\n",
              "      <td>-0.125023</td>\n",
              "      <td>-0.059078</td>\n",
              "      <td>-0.624009</td>\n",
              "      <td>-1.362062</td>\n",
              "      <td>1.011104</td>\n",
              "      <td>0.987304</td>\n",
              "      <td>0.962467</td>\n",
              "      <td>-0.514991</td>\n",
              "      <td>-0.130433</td>\n",
              "      <td>-0.044625</td>\n",
              "      <td>-0.727646</td>\n",
              "      <td>-0.334525</td>\n",
              "      <td>1.035543</td>\n",
              "      <td>0.146106</td>\n",
              "      <td>1.322497</td>\n",
              "      <td>-0.548805</td>\n",
              "      <td>-0.114222</td>\n",
              "      <td>-0.03338</td>\n",
              "      <td>-0.785105</td>\n",
              "      <td>-1.307084</td>\n",
              "      <td>-0.479719</td>\n",
              "      <td>0.824811</td>\n",
              "      <td>0.587391</td>\n",
              "      <td>-0.628896</td>\n",
              "      <td>-0.047232</td>\n",
              "      <td>0.0</td>\n",
              "      <td>-0.384967</td>\n",
              "      <td>0.052630</td>\n",
              "      <td>0.626845</td>\n",
              "      <td>0.792062</td>\n",
              "      <td>-1.319475</td>\n",
              "      <td>-0.822695</td>\n",
              "      <td>0.0</td>\n",
              "      <td>-0.061344</td>\n",
              "      <td>2.487851</td>\n",
              "      <td>1.395095</td>\n",
              "      <td>1.362175</td>\n",
              "      <td>-0.427026</td>\n",
              "      <td>-1.446538</td>\n",
              "      <td>-0.798272</td>\n",
              "      <td>-0.088742</td>\n",
              "      <td>-0.035433</td>\n",
              "      <td>1.314966</td>\n",
              "      <td>0.973439</td>\n",
              "      <td>1.236394</td>\n",
              "      <td>1.242083</td>\n",
              "      <td>0.371759</td>\n",
              "      <td>0.259230</td>\n",
              "      <td>-0.209785</td>\n",
              "      <td>-0.023596</td>\n",
              "      <td>-0.299081</td>\n",
              "      <td>-1.089383</td>\n",
              "      <td>-2.078218</td>\n",
              "      <td>-0.164037</td>\n",
              "      <td>1.565686</td>\n",
              "      <td>1.695137</td>\n",
              "      <td>-0.196008</td>\n",
              "    </tr>\n",
              "    <tr>\n",
              "      <th>3</th>\n",
              "      <td>0.0</td>\n",
              "      <td>-0.335016</td>\n",
              "      <td>0.377661</td>\n",
              "      <td>0.744919</td>\n",
              "      <td>0.268751</td>\n",
              "      <td>-0.844129</td>\n",
              "      <td>-0.409724</td>\n",
              "      <td>-0.125023</td>\n",
              "      <td>-0.059078</td>\n",
              "      <td>1.879691</td>\n",
              "      <td>0.482974</td>\n",
              "      <td>-1.503711</td>\n",
              "      <td>0.987304</td>\n",
              "      <td>-0.690077</td>\n",
              "      <td>-0.514991</td>\n",
              "      <td>-0.130433</td>\n",
              "      <td>-0.044625</td>\n",
              "      <td>-0.168254</td>\n",
              "      <td>-1.564930</td>\n",
              "      <td>1.035543</td>\n",
              "      <td>0.955952</td>\n",
              "      <td>-1.259982</td>\n",
              "      <td>-0.548805</td>\n",
              "      <td>-0.114222</td>\n",
              "      <td>-0.03338</td>\n",
              "      <td>-0.785105</td>\n",
              "      <td>-1.145542</td>\n",
              "      <td>1.050555</td>\n",
              "      <td>0.174444</td>\n",
              "      <td>-1.115919</td>\n",
              "      <td>-0.628896</td>\n",
              "      <td>-0.047232</td>\n",
              "      <td>0.0</td>\n",
              "      <td>-0.672372</td>\n",
              "      <td>-1.212607</td>\n",
              "      <td>-1.288055</td>\n",
              "      <td>0.286317</td>\n",
              "      <td>0.554775</td>\n",
              "      <td>-0.539913</td>\n",
              "      <td>0.0</td>\n",
              "      <td>-0.061344</td>\n",
              "      <td>-0.531284</td>\n",
              "      <td>-1.052835</td>\n",
              "      <td>-1.122457</td>\n",
              "      <td>-1.066232</td>\n",
              "      <td>0.309714</td>\n",
              "      <td>1.049411</td>\n",
              "      <td>-0.088742</td>\n",
              "      <td>-0.035433</td>\n",
              "      <td>-0.403575</td>\n",
              "      <td>0.087374</td>\n",
              "      <td>-1.060040</td>\n",
              "      <td>-0.833165</td>\n",
              "      <td>0.869315</td>\n",
              "      <td>1.072563</td>\n",
              "      <td>-0.209785</td>\n",
              "      <td>-0.023596</td>\n",
              "      <td>-0.299081</td>\n",
              "      <td>0.282736</td>\n",
              "      <td>0.208293</td>\n",
              "      <td>0.241430</td>\n",
              "      <td>0.379040</td>\n",
              "      <td>-0.505670</td>\n",
              "      <td>-0.196008</td>\n",
              "    </tr>\n",
              "    <tr>\n",
              "      <th>4</th>\n",
              "      <td>0.0</td>\n",
              "      <td>-0.335016</td>\n",
              "      <td>-1.094937</td>\n",
              "      <td>-2.551014</td>\n",
              "      <td>-0.197863</td>\n",
              "      <td>-1.020657</td>\n",
              "      <td>-0.409724</td>\n",
              "      <td>-0.125023</td>\n",
              "      <td>-0.059078</td>\n",
              "      <td>-0.624009</td>\n",
              "      <td>-1.915573</td>\n",
              "      <td>-1.252229</td>\n",
              "      <td>-0.476718</td>\n",
              "      <td>-1.351095</td>\n",
              "      <td>-0.514991</td>\n",
              "      <td>-0.130433</td>\n",
              "      <td>-0.044625</td>\n",
              "      <td>-0.727646</td>\n",
              "      <td>-1.564930</td>\n",
              "      <td>1.035543</td>\n",
              "      <td>-0.177833</td>\n",
              "      <td>-0.937173</td>\n",
              "      <td>0.064887</td>\n",
              "      <td>-0.114222</td>\n",
              "      <td>-0.03338</td>\n",
              "      <td>-0.785105</td>\n",
              "      <td>-0.337828</td>\n",
              "      <td>1.050555</td>\n",
              "      <td>-1.614063</td>\n",
              "      <td>0.246729</td>\n",
              "      <td>1.541814</td>\n",
              "      <td>-0.047232</td>\n",
              "      <td>0.0</td>\n",
              "      <td>0.764656</td>\n",
              "      <td>1.317867</td>\n",
              "      <td>0.148120</td>\n",
              "      <td>-1.736664</td>\n",
              "      <td>1.236320</td>\n",
              "      <td>0.873995</td>\n",
              "      <td>0.0</td>\n",
              "      <td>-0.061344</td>\n",
              "      <td>0.810554</td>\n",
              "      <td>1.242100</td>\n",
              "      <td>1.362175</td>\n",
              "      <td>0.851385</td>\n",
              "      <td>1.363466</td>\n",
              "      <td>-0.567312</td>\n",
              "      <td>-0.088742</td>\n",
              "      <td>-0.035433</td>\n",
              "      <td>-0.403575</td>\n",
              "      <td>-1.330331</td>\n",
              "      <td>-1.251410</td>\n",
              "      <td>1.053424</td>\n",
              "      <td>0.205907</td>\n",
              "      <td>-0.757436</td>\n",
              "      <td>-0.209785</td>\n",
              "      <td>-0.023596</td>\n",
              "      <td>-0.299081</td>\n",
              "      <td>-1.089383</td>\n",
              "      <td>-2.306869</td>\n",
              "      <td>0.849632</td>\n",
              "      <td>-0.468564</td>\n",
              "      <td>-0.505670</td>\n",
              "      <td>-0.196008</td>\n",
              "    </tr>\n",
              "  </tbody>\n",
              "</table>\n",
              "</div>"
            ],
            "text/plain": [
              "    0         1         2         3   ...        60        61        62        63\n",
              "0  0.0 -0.335016 -0.043081  0.274072  ... -0.366771 -1.146647 -0.505670 -0.196008\n",
              "1  0.0 -0.335016 -1.094937  0.038648  ...  0.849632  0.548561 -0.505670 -0.196008\n",
              "2  0.0 -0.335016 -1.094937 -1.844742  ... -0.164037  1.565686  1.695137 -0.196008\n",
              "3  0.0 -0.335016  0.377661  0.744919  ...  0.241430  0.379040 -0.505670 -0.196008\n",
              "4  0.0 -0.335016 -1.094937 -2.551014  ...  0.849632 -0.468564 -0.505670 -0.196008\n",
              "\n",
              "[5 rows x 64 columns]"
            ]
          },
          "metadata": {
            "tags": []
          },
          "execution_count": 22
        }
      ]
    },
    {
      "cell_type": "code",
      "metadata": {
        "id": "tOJ7XztjvZtd",
        "colab_type": "code",
        "colab": {}
      },
      "source": [
        "params={'C':[0.001,0.1,1,10,100],'gamma':[0.1,0.001,1,10,100]}"
      ],
      "execution_count": 0,
      "outputs": []
    },
    {
      "cell_type": "code",
      "metadata": {
        "id": "NCt0MLZkz0Zp",
        "colab_type": "code",
        "colab": {}
      },
      "source": [
        "svm=SVC(kernel='poly')"
      ],
      "execution_count": 0,
      "outputs": []
    },
    {
      "cell_type": "code",
      "metadata": {
        "id": "AQrh2-pz0GIw",
        "colab_type": "code",
        "colab": {}
      },
      "source": [
        "grid=GridSearchCV(svm,params,cv=5)"
      ],
      "execution_count": 0,
      "outputs": []
    },
    {
      "cell_type": "code",
      "metadata": {
        "id": "93lE-Z2X0jcJ",
        "colab_type": "code",
        "colab": {}
      },
      "source": [
        "train_X,test_X,train_y,test_y=train_test_split(X,y,test_size=0.3,random_state=42,stratify=y)"
      ],
      "execution_count": 0,
      "outputs": []
    },
    {
      "cell_type": "code",
      "metadata": {
        "id": "9x5bnWRE0nbm",
        "colab_type": "code",
        "colab": {
          "base_uri": "https://localhost:8080/",
          "height": 202
        },
        "outputId": "601d69fa-e18f-4403-9f86-df3ec5645a9f"
      },
      "source": [
        "grid.fit(train_X,train_y)"
      ],
      "execution_count": 32,
      "outputs": [
        {
          "output_type": "execute_result",
          "data": {
            "text/plain": [
              "GridSearchCV(cv=5, error_score='raise-deprecating',\n",
              "             estimator=SVC(C=1.0, cache_size=200, class_weight=None, coef0=0.0,\n",
              "                           decision_function_shape='ovr', degree=3,\n",
              "                           gamma='auto_deprecated', kernel='poly', max_iter=-1,\n",
              "                           probability=False, random_state=None, shrinking=True,\n",
              "                           tol=0.001, verbose=False),\n",
              "             iid='warn', n_jobs=None,\n",
              "             param_grid={'C': [0.001, 0.1, 1, 10, 100],\n",
              "                         'gamma': [0.1, 0.001, 1, 10, 100]},\n",
              "             pre_dispatch='2*n_jobs', refit=True, return_train_score=False,\n",
              "             scoring=None, verbose=0)"
            ]
          },
          "metadata": {
            "tags": []
          },
          "execution_count": 32
        }
      ]
    },
    {
      "cell_type": "code",
      "metadata": {
        "id": "GiVd9rFZ0sL-",
        "colab_type": "code",
        "colab": {
          "base_uri": "https://localhost:8080/",
          "height": 34
        },
        "outputId": "07281e7e-b8e4-4ad3-f634-231781f096e9"
      },
      "source": [
        "grid.score(test_X,test_y)"
      ],
      "execution_count": 33,
      "outputs": [
        {
          "output_type": "execute_result",
          "data": {
            "text/plain": [
              "0.9907407407407407"
            ]
          },
          "metadata": {
            "tags": []
          },
          "execution_count": 33
        }
      ]
    },
    {
      "cell_type": "code",
      "metadata": {
        "id": "nv_HfQr-1xGR",
        "colab_type": "code",
        "colab": {
          "base_uri": "https://localhost:8080/",
          "height": 34
        },
        "outputId": "e54287b4-f556-43d1-ae55-4abd0d2a3c75"
      },
      "source": [
        "grid.best_params_"
      ],
      "execution_count": 35,
      "outputs": [
        {
          "output_type": "execute_result",
          "data": {
            "text/plain": [
              "{'C': 0.001, 'gamma': 1}"
            ]
          },
          "metadata": {
            "tags": []
          },
          "execution_count": 35
        }
      ]
    },
    {
      "cell_type": "code",
      "metadata": {
        "id": "I-bb_IEH4prD",
        "colab_type": "code",
        "colab": {}
      },
      "source": [
        "y_pred=grid.predict(test_X)"
      ],
      "execution_count": 0,
      "outputs": []
    },
    {
      "cell_type": "code",
      "metadata": {
        "id": "Q0CdBy64-wF-",
        "colab_type": "code",
        "colab": {}
      },
      "source": [
        "from sklearn.metrics import accuracy_score,confusion_matrix"
      ],
      "execution_count": 0,
      "outputs": []
    },
    {
      "cell_type": "code",
      "metadata": {
        "id": "Z3krw23g_EYO",
        "colab_type": "code",
        "colab": {
          "base_uri": "https://localhost:8080/",
          "height": 34
        },
        "outputId": "017883e8-3ac2-4905-8d27-46e17f05b50a"
      },
      "source": [
        "acc=accuracy_score(test_y,y_pred)\n",
        "acc"
      ],
      "execution_count": 43,
      "outputs": [
        {
          "output_type": "execute_result",
          "data": {
            "text/plain": [
              "0.9907407407407407"
            ]
          },
          "metadata": {
            "tags": []
          },
          "execution_count": 43
        }
      ]
    },
    {
      "cell_type": "code",
      "metadata": {
        "id": "i0rXkSw9_iXM",
        "colab_type": "code",
        "colab": {
          "base_uri": "https://localhost:8080/",
          "height": 185
        },
        "outputId": "df04feb8-819d-409a-ee19-e4080772edae"
      },
      "source": [
        "con=confusion_matrix(test_y,y_pred)\n",
        "con"
      ],
      "execution_count": 50,
      "outputs": [
        {
          "output_type": "execute_result",
          "data": {
            "text/plain": [
              "array([[53,  0,  0,  0,  0,  0,  0,  0,  1,  0],\n",
              "       [ 0, 55,  0,  0,  0,  0,  0,  0,  0,  0],\n",
              "       [ 0,  0, 53,  0,  0,  0,  0,  0,  0,  0],\n",
              "       [ 0,  0,  0, 55,  0,  0,  0,  0,  0,  0],\n",
              "       [ 0,  0,  0,  0, 54,  0,  0,  0,  0,  0],\n",
              "       [ 0,  0,  0,  0,  0, 54,  0,  0,  0,  1],\n",
              "       [ 0,  0,  0,  0,  0,  0, 53,  0,  1,  0],\n",
              "       [ 0,  0,  0,  0,  0,  0,  0, 54,  0,  0],\n",
              "       [ 0,  1,  0,  0,  0,  0,  0,  0, 51,  0],\n",
              "       [ 0,  0,  0,  0,  0,  0,  0,  1,  0, 53]])"
            ]
          },
          "metadata": {
            "tags": []
          },
          "execution_count": 50
        }
      ]
    },
    {
      "cell_type": "code",
      "metadata": {
        "id": "ikiFGBTxA0va",
        "colab_type": "code",
        "colab": {}
      },
      "source": [
        ""
      ],
      "execution_count": 0,
      "outputs": []
    }
  ]
}